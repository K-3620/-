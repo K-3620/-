{
 "cells": [
  {
   "cell_type": "code",
   "execution_count": 12,
   "metadata": {},
   "outputs": [],
   "source": [
    "import numpy as np\n",
    "import pandas as pd\n",
    "from gensim.models import Word2Vec\n",
    "import matplotlib.pyplot as plt\n",
    "from nltk import tokenize\n",
    "from konlpy.tag import Okt\n",
    "%matplotlib inline\n",
    "import matplotlib\n",
    "import matplotlib.font_manager as fm\n",
    "from sklearn.decomposition import PCA\n",
    "import nltk"
   ]
  },
  {
   "cell_type": "code",
   "execution_count": 2,
   "metadata": {},
   "outputs": [],
   "source": [
    "font_path = r'C:\\Users\\TJ\\Desktop\\NanumFontSetup_TTF_ALL\\NanumGothic.ttf'\n",
    "fontprop = fm.FontProperties(fname=font_path, size=25)"
   ]
  },
  {
   "cell_type": "code",
   "execution_count": 3,
   "metadata": {},
   "outputs": [],
   "source": [
    "sentence = '''대한항공을 보유한 한진그룹이 아시아나항공을 인수하는 방안이 검토되고 있다.\n",
    "\n",
    "12일 금융권에 따르면 아시아나항공 채권은행인 산업은행은 대한항공과 아시아나항공을 `한 지붕` 아래 두는 방안을 검토하고 있다.\n",
    "\n",
    "한진그룹이 산은의 자금 지원을 통해 아시아나항공을 인수하는 방식이 거론된다.한진그룹 지배구조 최상단에 있는 한진칼에 제3자 배정 유상증자 방식으로 자금을 투자하면 한진칼이 금호산업이 가진 아시아나항공 지분(30.77%)을 사들이는 방안이다.\n",
    "\n",
    "이와 관련 산은은 \"여러 가지 옵션 중에서 검토 중이나 확정된 바 없다\"고 밝혔다.\n",
    "\n",
    "대한항공 관계자는 아시아나항공 인수와 관련해 \"확인된 바가 없다\"며 말을 아꼈다.HDC현대산업개발의 아시아나항공 인수 무산에 따라 아시아나항공은 채권단 관리 체제 아래 놓인 상태다.\n",
    "\n",
    "아시아나항공은 국책은행으로부터 지원받은 3조3천억원을 이미 소진했고, 최근 기간산업안정기금 자금 2천400억원을 추가로 지원받았다.\n",
    "\n",
    "아시아나항공의 경영 정상화 방안을 고민하는 가운데 1위 항공사인 대한항공과 합치는 것이 대안으로 떠오른 것으로 보인다.'''"
   ]
  },
  {
   "cell_type": "code",
   "execution_count": 4,
   "metadata": {},
   "outputs": [],
   "source": [
    "okt = Okt()"
   ]
  },
  {
   "cell_type": "code",
   "execution_count": 5,
   "metadata": {},
   "outputs": [],
   "source": [
    "nouns = okt.nouns(sentence)"
   ]
  },
  {
   "cell_type": "code",
   "execution_count": 19,
   "metadata": {
    "scrolled": true
   },
   "outputs": [
    {
     "data": {
      "text/plain": [
       "['대한항공',\n",
       " '보유',\n",
       " '한진',\n",
       " '그룹',\n",
       " '아시아나',\n",
       " '항공',\n",
       " '인수',\n",
       " '방안',\n",
       " '검토',\n",
       " '금융',\n",
       " '아시아나',\n",
       " '항공',\n",
       " '채권',\n",
       " '은행',\n",
       " '산업',\n",
       " '은행',\n",
       " '대한항공',\n",
       " '아시아나',\n",
       " '항공',\n",
       " '지붕',\n",
       " '아래',\n",
       " '방안',\n",
       " '검토',\n",
       " '한진',\n",
       " '그룹',\n",
       " '산',\n",
       " '의',\n",
       " '자금',\n",
       " '지원',\n",
       " '통해',\n",
       " '아시아나',\n",
       " '항공',\n",
       " '인수',\n",
       " '방식',\n",
       " '거론',\n",
       " '한진',\n",
       " '그룹',\n",
       " '지배구조',\n",
       " '최상',\n",
       " '단',\n",
       " '한진',\n",
       " '칼',\n",
       " '제',\n",
       " '자',\n",
       " '배정',\n",
       " '유상증자',\n",
       " '방식',\n",
       " '자금',\n",
       " '투자',\n",
       " '한진',\n",
       " '칼',\n",
       " '금호',\n",
       " '산업',\n",
       " '아시아나',\n",
       " '항공',\n",
       " '분',\n",
       " '방안',\n",
       " '이',\n",
       " '관련',\n",
       " '산',\n",
       " '은',\n",
       " '여러',\n",
       " '가지',\n",
       " '옵션',\n",
       " '중',\n",
       " '검토',\n",
       " '중이',\n",
       " '확정',\n",
       " '바',\n",
       " '고',\n",
       " '대한항공',\n",
       " '관계자',\n",
       " '아시아나',\n",
       " '항공',\n",
       " '인수',\n",
       " '관련',\n",
       " '확인',\n",
       " '바',\n",
       " '며',\n",
       " '말',\n",
       " '산업',\n",
       " '개발',\n",
       " '아시아나',\n",
       " '항공',\n",
       " '인수',\n",
       " '무산',\n",
       " '아시아나',\n",
       " '항공',\n",
       " '채권',\n",
       " '단',\n",
       " '관리',\n",
       " '체제',\n",
       " '아래',\n",
       " '상태',\n",
       " '아시아나',\n",
       " '항공',\n",
       " '국책',\n",
       " '은행',\n",
       " '지원',\n",
       " '소진',\n",
       " '최근',\n",
       " '기간산업',\n",
       " '안정',\n",
       " '기금',\n",
       " '자금',\n",
       " '추가',\n",
       " '지원',\n",
       " '아시아나',\n",
       " '항공',\n",
       " '경영',\n",
       " '정상화',\n",
       " '방안',\n",
       " '고민',\n",
       " '가운데',\n",
       " '위',\n",
       " '항공사',\n",
       " '대한항공',\n",
       " '것',\n",
       " '대안',\n",
       " '것']"
      ]
     },
     "execution_count": 19,
     "metadata": {},
     "output_type": "execute_result"
    }
   ],
   "source": [
    "nouns"
   ]
  },
  {
   "cell_type": "code",
   "execution_count": null,
   "metadata": {},
   "outputs": [],
   "source": []
  },
  {
   "cell_type": "code",
   "execution_count": 30,
   "metadata": {
    "scrolled": true
   },
   "outputs": [
    {
     "data": {
      "text/plain": [
       "['대한항공',\n",
       " '보유',\n",
       " '한진',\n",
       " '그룹',\n",
       " '아시아나',\n",
       " '항공',\n",
       " '인수',\n",
       " '방안',\n",
       " '검토',\n",
       " '금융',\n",
       " '아시아나',\n",
       " '항공',\n",
       " '채권',\n",
       " '은행',\n",
       " '산업',\n",
       " '은행',\n",
       " '대한항공',\n",
       " '아시아나',\n",
       " '항공',\n",
       " '지붕',\n",
       " '아래',\n",
       " '방안',\n",
       " '검토',\n",
       " '한진',\n",
       " '그룹',\n",
       " '산',\n",
       " '의',\n",
       " '자금',\n",
       " '지원',\n",
       " '통해',\n",
       " '아시아나',\n",
       " '항공',\n",
       " '인수',\n",
       " '방식',\n",
       " '거론',\n",
       " '한진',\n",
       " '그룹',\n",
       " '지배구조',\n",
       " '최상',\n",
       " '단',\n",
       " '한진',\n",
       " '칼',\n",
       " '제',\n",
       " '자',\n",
       " '배정',\n",
       " '유상증자',\n",
       " '방식',\n",
       " '자금',\n",
       " '투자',\n",
       " '한진',\n",
       " '칼',\n",
       " '금호',\n",
       " '산업',\n",
       " '아시아나',\n",
       " '항공',\n",
       " '분',\n",
       " '방안',\n",
       " '이',\n",
       " '관련',\n",
       " '산',\n",
       " '은',\n",
       " '여러',\n",
       " '가지',\n",
       " '옵션',\n",
       " '중',\n",
       " '검토',\n",
       " '중이',\n",
       " '확정',\n",
       " '바',\n",
       " '고',\n",
       " '대한항공',\n",
       " '관계자',\n",
       " '아시아나',\n",
       " '항공',\n",
       " '인수',\n",
       " '관련',\n",
       " '확인',\n",
       " '바',\n",
       " '며',\n",
       " '말',\n",
       " '산업',\n",
       " '개발',\n",
       " '아시아나',\n",
       " '항공',\n",
       " '인수',\n",
       " '무산',\n",
       " '아시아나',\n",
       " '항공',\n",
       " '채권',\n",
       " '단',\n",
       " '관리',\n",
       " '체제',\n",
       " '아래',\n",
       " '상태',\n",
       " '아시아나',\n",
       " '항공',\n",
       " '국책',\n",
       " '은행',\n",
       " '지원',\n",
       " '소진',\n",
       " '최근',\n",
       " '기간산업',\n",
       " '안정',\n",
       " '기금',\n",
       " '자금',\n",
       " '추가',\n",
       " '지원',\n",
       " '아시아나',\n",
       " '항공',\n",
       " '경영',\n",
       " '정상화',\n",
       " '방안',\n",
       " '고민',\n",
       " '가운데',\n",
       " '위',\n",
       " '항공사',\n",
       " '대한항공',\n",
       " '것',\n",
       " '대안',\n",
       " '것']"
      ]
     },
     "execution_count": 30,
     "metadata": {},
     "output_type": "execute_result"
    }
   ],
   "source": [
    "# 문자만 판별 \n",
    "dataset = []\n",
    "for i in nouns:\n",
    "    if i.isalpha():\n",
    "        dataset.append(i)\n",
    "    else:\n",
    "        continue\n",
    "dataset"
   ]
  },
  {
   "cell_type": "code",
   "execution_count": 32,
   "metadata": {
    "scrolled": true
   },
   "outputs": [
    {
     "data": {
      "text/plain": [
       "['대한항공',\n",
       " '보유',\n",
       " '한진',\n",
       " '그룹',\n",
       " '아시아나',\n",
       " '항공',\n",
       " '인수',\n",
       " '방안',\n",
       " '검토',\n",
       " '금융',\n",
       " '아시아나',\n",
       " '항공',\n",
       " '채권',\n",
       " '은행',\n",
       " '산업',\n",
       " '은행',\n",
       " '대한항공',\n",
       " '아시아나',\n",
       " '항공',\n",
       " '지붕',\n",
       " '아래',\n",
       " '방안',\n",
       " '검토',\n",
       " '한진',\n",
       " '그룹',\n",
       " '자금',\n",
       " '지원',\n",
       " '통해',\n",
       " '아시아나',\n",
       " '항공',\n",
       " '인수',\n",
       " '방식',\n",
       " '거론',\n",
       " '한진',\n",
       " '그룹',\n",
       " '지배구조',\n",
       " '최상',\n",
       " '한진',\n",
       " '배정',\n",
       " '유상증자',\n",
       " '방식',\n",
       " '자금',\n",
       " '투자',\n",
       " '한진',\n",
       " '금호',\n",
       " '산업',\n",
       " '아시아나',\n",
       " '항공',\n",
       " '방안',\n",
       " '관련',\n",
       " '여러',\n",
       " '가지',\n",
       " '옵션',\n",
       " '검토',\n",
       " '중이',\n",
       " '확정',\n",
       " '대한항공',\n",
       " '관계자',\n",
       " '아시아나',\n",
       " '항공',\n",
       " '인수',\n",
       " '관련',\n",
       " '확인',\n",
       " '산업',\n",
       " '개발',\n",
       " '아시아나',\n",
       " '항공',\n",
       " '인수',\n",
       " '무산',\n",
       " '아시아나',\n",
       " '항공',\n",
       " '채권',\n",
       " '관리',\n",
       " '체제',\n",
       " '아래',\n",
       " '상태',\n",
       " '아시아나',\n",
       " '항공',\n",
       " '국책',\n",
       " '은행',\n",
       " '지원',\n",
       " '소진',\n",
       " '최근',\n",
       " '기간산업',\n",
       " '안정',\n",
       " '기금',\n",
       " '자금',\n",
       " '추가',\n",
       " '지원',\n",
       " '아시아나',\n",
       " '항공',\n",
       " '경영',\n",
       " '정상화',\n",
       " '방안',\n",
       " '고민',\n",
       " '가운데',\n",
       " '항공사',\n",
       " '대한항공',\n",
       " '대안']"
      ]
     },
     "execution_count": 32,
     "metadata": {},
     "output_type": "execute_result"
    }
   ],
   "source": [
    "# 글자수 2글자 이상만 추출\n",
    "for i in dataset:\n",
    "    if len(i) ==1:\n",
    "        dataset.remove(i)\n",
    "    else:\n",
    "        continue\n",
    "dataset"
   ]
  },
  {
   "cell_type": "code",
   "execution_count": 7,
   "metadata": {},
   "outputs": [],
   "source": [
    "# 불용어 처리\n",
    "stopwords = ['의','가','이','은','들','는','좀','잘','걍','과','도','를','을','으로','자','에','와','한','하다',\",\",'\"','`','.','에'\n",
    "            ,'된다','(',')','이다','중','없다','인','것','보인다','밝혔다','것','하는','받았다','바','며']"
   ]
  },
  {
   "cell_type": "code",
   "execution_count": 33,
   "metadata": {},
   "outputs": [],
   "source": [
    "nouns_stopwords = [i for i in dataset if i not in stopwords]"
   ]
  },
  {
   "cell_type": "code",
   "execution_count": 34,
   "metadata": {
    "collapsed": true
   },
   "outputs": [
    {
     "data": {
      "text/plain": [
       "['대한항공',\n",
       " '보유',\n",
       " '한진',\n",
       " '그룹',\n",
       " '아시아나',\n",
       " '항공',\n",
       " '인수',\n",
       " '방안',\n",
       " '검토',\n",
       " '금융',\n",
       " '아시아나',\n",
       " '항공',\n",
       " '채권',\n",
       " '은행',\n",
       " '산업',\n",
       " '은행',\n",
       " '대한항공',\n",
       " '아시아나',\n",
       " '항공',\n",
       " '지붕',\n",
       " '아래',\n",
       " '방안',\n",
       " '검토',\n",
       " '한진',\n",
       " '그룹',\n",
       " '자금',\n",
       " '지원',\n",
       " '통해',\n",
       " '아시아나',\n",
       " '항공',\n",
       " '인수',\n",
       " '방식',\n",
       " '거론',\n",
       " '한진',\n",
       " '그룹',\n",
       " '지배구조',\n",
       " '최상',\n",
       " '한진',\n",
       " '배정',\n",
       " '유상증자',\n",
       " '방식',\n",
       " '자금',\n",
       " '투자',\n",
       " '한진',\n",
       " '금호',\n",
       " '산업',\n",
       " '아시아나',\n",
       " '항공',\n",
       " '방안',\n",
       " '관련',\n",
       " '여러',\n",
       " '가지',\n",
       " '옵션',\n",
       " '검토',\n",
       " '중이',\n",
       " '확정',\n",
       " '대한항공',\n",
       " '관계자',\n",
       " '아시아나',\n",
       " '항공',\n",
       " '인수',\n",
       " '관련',\n",
       " '확인',\n",
       " '산업',\n",
       " '개발',\n",
       " '아시아나',\n",
       " '항공',\n",
       " '인수',\n",
       " '무산',\n",
       " '아시아나',\n",
       " '항공',\n",
       " '채권',\n",
       " '관리',\n",
       " '체제',\n",
       " '아래',\n",
       " '상태',\n",
       " '아시아나',\n",
       " '항공',\n",
       " '국책',\n",
       " '은행',\n",
       " '지원',\n",
       " '소진',\n",
       " '최근',\n",
       " '기간산업',\n",
       " '안정',\n",
       " '기금',\n",
       " '자금',\n",
       " '추가',\n",
       " '지원',\n",
       " '아시아나',\n",
       " '항공',\n",
       " '경영',\n",
       " '정상화',\n",
       " '방안',\n",
       " '고민',\n",
       " '가운데',\n",
       " '항공사',\n",
       " '대한항공',\n",
       " '대안']"
      ]
     },
     "execution_count": 34,
     "metadata": {},
     "output_type": "execute_result"
    }
   ],
   "source": [
    "nouns_stopwords"
   ]
  },
  {
   "cell_type": "code",
   "execution_count": 35,
   "metadata": {},
   "outputs": [],
   "source": [
    "# Text화\n",
    "nouns_stopwords = nltk.Text(nouns_stopwords)"
   ]
  },
  {
   "cell_type": "code",
   "execution_count": 36,
   "metadata": {},
   "outputs": [
    {
     "data": {
      "text/plain": [
       "<Text: 대한항공 보유 한진 그룹 아시아나 항공 인수 방안...>"
      ]
     },
     "execution_count": 36,
     "metadata": {},
     "output_type": "execute_result"
    }
   ],
   "source": [
    "nouns_stopwords"
   ]
  },
  {
   "cell_type": "code",
   "execution_count": 37,
   "metadata": {},
   "outputs": [],
   "source": [
    "nouns_vocab = nouns_stopwords.vocab()"
   ]
  },
  {
   "cell_type": "code",
   "execution_count": 38,
   "metadata": {},
   "outputs": [
    {
     "data": {
      "text/plain": [
       "FreqDist({'아시아나': 10, '항공': 10, '한진': 5, '대한항공': 4, '인수': 4, '방안': 4, '그룹': 3, '검토': 3, '은행': 3, '산업': 3, ...})"
      ]
     },
     "execution_count": 38,
     "metadata": {},
     "output_type": "execute_result"
    }
   ],
   "source": [
    "nouns_vocab"
   ]
  },
  {
   "cell_type": "code",
   "execution_count": 52,
   "metadata": {
    "scrolled": true
   },
   "outputs": [
    {
     "data": {
      "text/plain": [
       "[('아시아나', 10),\n",
       " ('항공', 10),\n",
       " ('한진', 5),\n",
       " ('대한항공', 4),\n",
       " ('인수', 4),\n",
       " ('방안', 4),\n",
       " ('그룹', 3),\n",
       " ('검토', 3),\n",
       " ('은행', 3),\n",
       " ('산업', 3),\n",
       " ('자금', 3),\n",
       " ('지원', 3),\n",
       " ('채권', 2),\n",
       " ('아래', 2),\n",
       " ('방식', 2),\n",
       " ('관련', 2),\n",
       " ('보유', 1),\n",
       " ('금융', 1),\n",
       " ('지붕', 1),\n",
       " ('통해', 1),\n",
       " ('거론', 1),\n",
       " ('지배구조', 1),\n",
       " ('최상', 1),\n",
       " ('배정', 1),\n",
       " ('유상증자', 1),\n",
       " ('투자', 1),\n",
       " ('금호', 1),\n",
       " ('여러', 1),\n",
       " ('가지', 1),\n",
       " ('옵션', 1)]"
      ]
     },
     "execution_count": 52,
     "metadata": {},
     "output_type": "execute_result"
    }
   ],
   "source": [
    "top30 = nouns_stopwords.vocab().most_common(30)\n",
    "top30"
   ]
  },
  {
   "cell_type": "code",
   "execution_count": 58,
   "metadata": {},
   "outputs": [
    {
     "data": {
      "text/plain": [
       "'아시아나'"
      ]
     },
     "execution_count": 58,
     "metadata": {},
     "output_type": "execute_result"
    }
   ],
   "source": [
    "top30[0][0]"
   ]
  },
  {
   "cell_type": "code",
   "execution_count": 59,
   "metadata": {},
   "outputs": [
    {
     "data": {
      "text/plain": [
       "[['아시아나'],\n",
       " ['항공'],\n",
       " ['한진'],\n",
       " ['대한항공'],\n",
       " ['인수'],\n",
       " ['방안'],\n",
       " ['그룹'],\n",
       " ['검토'],\n",
       " ['은행'],\n",
       " ['산업'],\n",
       " ['자금'],\n",
       " ['지원'],\n",
       " ['채권'],\n",
       " ['아래'],\n",
       " ['방식'],\n",
       " ['관련'],\n",
       " ['보유'],\n",
       " ['금융'],\n",
       " ['지붕'],\n",
       " ['통해'],\n",
       " ['거론'],\n",
       " ['지배구조'],\n",
       " ['최상'],\n",
       " ['배정'],\n",
       " ['유상증자'],\n",
       " ['투자'],\n",
       " ['금호'],\n",
       " ['여러'],\n",
       " ['가지'],\n",
       " ['옵션']]"
      ]
     },
     "execution_count": 59,
     "metadata": {},
     "output_type": "execute_result"
    }
   ],
   "source": [
    "top30_content = []\n",
    "for i in top30:\n",
    "    line =[]\n",
    "    for j in range(1):\n",
    "        line.append(i[0])\n",
    "    top30_content.append(line)\n",
    "top30_content"
   ]
  },
  {
   "cell_type": "code",
   "execution_count": 53,
   "metadata": {
    "scrolled": true
   },
   "outputs": [
    {
     "data": {
      "text/plain": [
       "[['아', '시', '아', '나'],\n",
       " ['항', '공'],\n",
       " ['한', '진'],\n",
       " ['대', '한', '항', '공'],\n",
       " ['인', '수'],\n",
       " ['방', '안'],\n",
       " ['그', '룹'],\n",
       " ['검', '토'],\n",
       " ['은', '행'],\n",
       " ['산', '업'],\n",
       " ['자', '금'],\n",
       " ['지', '원'],\n",
       " ['채', '권'],\n",
       " ['아', '래'],\n",
       " ['방', '식'],\n",
       " ['관', '련'],\n",
       " ['보', '유'],\n",
       " ['금', '융'],\n",
       " ['지', '붕'],\n",
       " ['통', '해'],\n",
       " ['거', '론'],\n",
       " ['지', '배', '구', '조'],\n",
       " ['최', '상'],\n",
       " ['배', '정'],\n",
       " ['유', '상', '증', '자'],\n",
       " ['투', '자'],\n",
       " ['금', '호'],\n",
       " ['여', '러'],\n",
       " ['가', '지'],\n",
       " ['옵', '션']]"
      ]
     },
     "execution_count": 53,
     "metadata": {},
     "output_type": "execute_result"
    }
   ],
   "source": [
    "# top30 단어만 가져오기\n",
    "top30_content = []\n",
    "for i in top30:\n",
    "    top30_content.append(list(i[0]))\n",
    "top30_content"
   ]
  },
  {
   "cell_type": "code",
   "execution_count": 60,
   "metadata": {},
   "outputs": [],
   "source": [
    "# word2vec 모델 생성\n",
    "model = Word2Vec(\n",
    "    top30_content\n",
    "    ,size=300 # 차원수 \n",
    "    ,window=5 # 앞뒤 폭\n",
    "    ,min_count=1 # 출현 빈도\n",
    "    ,workers=1 # 동시에 처리할 작업 수\n",
    "    ,sg=0 # CBOW\n",
    ")"
   ]
  },
  {
   "cell_type": "code",
   "execution_count": 61,
   "metadata": {},
   "outputs": [],
   "source": [
    "# 단어 벡터를 구한다\n",
    "word_vectors = model.wv\n",
    "vocabs = word_vectors.vocab.keys()\n",
    "word_vectors_list = [word_vectors[v] for v in vocabs]"
   ]
  },
  {
   "cell_type": "code",
   "execution_count": 62,
   "metadata": {},
   "outputs": [],
   "source": [
    "pca = PCA(n_components=2)\n",
    "xys = pca.fit_transform(word_vectors_list)\n",
    "xs = xys[:,0]\n",
    "ys = xys[:,1]"
   ]
  },
  {
   "cell_type": "code",
   "execution_count": 64,
   "metadata": {},
   "outputs": [
    {
     "data": {
      "image/png": "[encoded data removed]",
      "text/plain": [
       "<Figure size 1440x720 with 1 Axes>"
      ]
     },
     "metadata": {
      "needs_background": "light"
     },
     "output_type": "display_data"
    }
   ],
   "source": [
    "plt.figure(figsize =(20,10))\n",
    "plt.scatter(xs,ys,marker='o')\n",
    "for i,v in enumerate(vocabs):\n",
    "    plt.annotate(v,xy=(xs[i],ys[i]),fontproperties=fontprop)"
   ]
  },
  {
   "cell_type": "code",
   "execution_count": null,
   "metadata": {},
   "outputs": [],
   "source": []
  }
 ],
 "metadata": {
  "kernelspec": {
   "display_name": "ml01-02",
   "language": "python",
   "name": "ml01-02"
  },
  "language_info": {
   "codemirror_mode": {
    "name": "ipython",
    "version": 3
   },
   "file_extension": ".py",
   "mimetype": "text/x-python",
   "name": "python",
   "nbconvert_exporter": "python",
   "pygments_lexer": "ipython3",
   "version": "3.7.7"
  }
 },
 "nbformat": 4,
 "nbformat_minor": 4
}
