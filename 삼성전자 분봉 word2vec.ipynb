{
 "cells": [
  {
   "cell_type": "code",
   "execution_count": 1,
   "metadata": {},
   "outputs": [],
   "source": [
    "import numpy as np\n",
    "import pandas as pd\n",
    "from gensim.models import Word2Vec\n",
    "import matplotlib.pyplot as plt\n",
    "from nltk import tokenize\n",
    "from konlpy.tag import Okt\n",
    "%matplotlib inline\n",
    "import matplotlib\n",
    "import matplotlib.font_manager as fm\n",
    "from sklearn.decomposition import PCA\n",
    "import nltk"
   ]
  },
  {
   "cell_type": "code",
   "execution_count": 9,
   "metadata": {
    "scrolled": true
   },
   "outputs": [
    {
     "data": {
      "text/html": [
       "<div>\n",
       "<style scoped>\n",
       "    .dataframe tbody tr th:only-of-type {\n",
       "        vertical-align: middle;\n",
       "    }\n",
       "\n",
       "    .dataframe tbody tr th {\n",
       "        vertical-align: top;\n",
       "    }\n",
       "\n",
       "    .dataframe thead th {\n",
       "        text-align: right;\n",
       "    }\n",
       "</style>\n",
       "<table border=\"1\" class=\"dataframe\">\n",
       "  <thead>\n",
       "    <tr style=\"text-align: right;\">\n",
       "      <th></th>\n",
       "      <th>datetime</th>\n",
       "      <th>open</th>\n",
       "      <th>high</th>\n",
       "      <th>low</th>\n",
       "      <th>close</th>\n",
       "      <th>prev</th>\n",
       "      <th>article</th>\n",
       "    </tr>\n",
       "  </thead>\n",
       "  <tbody>\n",
       "    <tr>\n",
       "      <th>0</th>\n",
       "      <td>2018-10-29 09:20</td>\n",
       "      <td>40800</td>\n",
       "      <td>40900</td>\n",
       "      <td>40750</td>\n",
       "      <td>40850</td>\n",
       "      <td>100.0</td>\n",
       "      <td>【서울뉴시스】이진영 기자  반도체 투톱 삼성전자와 SK하이닉스가 29일 장 초반 약...</td>\n",
       "    </tr>\n",
       "    <tr>\n",
       "      <th>1</th>\n",
       "      <td>2018-10-29 09:56</td>\n",
       "      <td>41050</td>\n",
       "      <td>41100</td>\n",
       "      <td>41050</td>\n",
       "      <td>41100</td>\n",
       "      <td>50.0</td>\n",
       "      <td>용인문화재단이사장 백군기이 15일부터 19일까지 삼성전자 화성캠퍼스 DSR타워 로비...</td>\n",
       "    </tr>\n",
       "    <tr>\n",
       "      <th>2</th>\n",
       "      <td>2018-10-29 14:26</td>\n",
       "      <td>41850</td>\n",
       "      <td>41850</td>\n",
       "      <td>41750</td>\n",
       "      <td>41750</td>\n",
       "      <td>-100.0</td>\n",
       "      <td>‘대륙의 완벽한 실수’ ‘갓성비 스마트폰’이라는 별명이 붙은 중국 샤오미의 새 ...</td>\n",
       "    </tr>\n",
       "  </tbody>\n",
       "</table>\n",
       "</div>"
      ],
      "text/plain": [
       "           datetime   open   high    low  close   prev  \\\n",
       "0  2018-10-29 09:20  40800  40900  40750  40850  100.0   \n",
       "1  2018-10-29 09:56  41050  41100  41050  41100   50.0   \n",
       "2  2018-10-29 14:26  41850  41850  41750  41750 -100.0   \n",
       "\n",
       "                                             article  \n",
       "0  【서울뉴시스】이진영 기자  반도체 투톱 삼성전자와 SK하이닉스가 29일 장 초반 약...  \n",
       "1  용인문화재단이사장 백군기이 15일부터 19일까지 삼성전자 화성캠퍼스 DSR타워 로비...  \n",
       "2    ‘대륙의 완벽한 실수’ ‘갓성비 스마트폰’이라는 별명이 붙은 중국 샤오미의 새 ...  "
      ]
     },
     "execution_count": 9,
     "metadata": {},
     "output_type": "execute_result"
    }
   ],
   "source": [
    "samsung_article = pd.read_csv('./삼성전자기사분봉.csv')\n",
    "samsung_article.head(3)"
   ]
  },
  {
   "cell_type": "code",
   "execution_count": 5,
   "metadata": {},
   "outputs": [
    {
     "name": "stdout",
     "output_type": "stream",
     "text": [
      "<class 'pandas.core.frame.DataFrame'>\n",
      "RangeIndex: 1215 entries, 0 to 1214\n",
      "Data columns (total 2 columns):\n",
      " #   Column    Non-Null Count  Dtype \n",
      "---  ------    --------------  ----- \n",
      " 0   datetime  1215 non-null   object\n",
      " 1   article   1215 non-null   object\n",
      "dtypes: object(2)\n",
      "memory usage: 19.1+ KB\n"
     ]
    }
   ],
   "source": [
    "samsung_article.info()"
   ]
  },
  {
   "cell_type": "code",
   "execution_count": 12,
   "metadata": {},
   "outputs": [],
   "source": [
    "ss_datetime =samsung_article['datetime'].str.replace('.','')"
   ]
  },
  {
   "cell_type": "code",
   "execution_count": 14,
   "metadata": {},
   "outputs": [
    {
     "data": {
      "text/plain": [
       "0       202011131652\n",
       "1       202011131415\n",
       "2       202011101616\n",
       "3       202011072005\n",
       "4       202011072001\n",
       "            ...     \n",
       "1210    201810280937\n",
       "1211    201810280937\n",
       "1212    201810280937\n",
       "1213    201810280937\n",
       "1214    201810280917\n",
       "Name: datetime, Length: 1215, dtype: object"
      ]
     },
     "execution_count": 14,
     "metadata": {},
     "output_type": "execute_result"
    }
   ],
   "source": [
    "ss_datetime.str.replace(':','')"
   ]
  },
  {
   "cell_type": "code",
   "execution_count": 10,
   "metadata": {},
   "outputs": [
    {
     "data": {
      "text/html": [
       "<div>\n",
       "<style scoped>\n",
       "    .dataframe tbody tr th:only-of-type {\n",
       "        vertical-align: middle;\n",
       "    }\n",
       "\n",
       "    .dataframe tbody tr th {\n",
       "        vertical-align: top;\n",
       "    }\n",
       "\n",
       "    .dataframe thead th {\n",
       "        text-align: right;\n",
       "    }\n",
       "</style>\n",
       "<table border=\"1\" class=\"dataframe\">\n",
       "  <thead>\n",
       "    <tr style=\"text-align: right;\">\n",
       "      <th></th>\n",
       "      <th>date</th>\n",
       "      <th>time</th>\n",
       "      <th>open</th>\n",
       "      <th>high</th>\n",
       "      <th>low</th>\n",
       "      <th>close</th>\n",
       "      <th>prev</th>\n",
       "      <th>volume</th>\n",
       "      <th>tr_amount</th>\n",
       "      <th>sales_qu</th>\n",
       "      <th>purchase_qu</th>\n",
       "    </tr>\n",
       "  </thead>\n",
       "  <tbody>\n",
       "    <tr>\n",
       "      <th>0</th>\n",
       "      <td>20181031</td>\n",
       "      <td>901</td>\n",
       "      <td>42900</td>\n",
       "      <td>43100</td>\n",
       "      <td>42850</td>\n",
       "      <td>43000</td>\n",
       "      <td>0</td>\n",
       "      <td>889398</td>\n",
       "      <td>38175620000</td>\n",
       "      <td>106987</td>\n",
       "      <td>781820</td>\n",
       "    </tr>\n",
       "    <tr>\n",
       "      <th>1</th>\n",
       "      <td>20181031</td>\n",
       "      <td>902</td>\n",
       "      <td>43000</td>\n",
       "      <td>43150</td>\n",
       "      <td>42950</td>\n",
       "      <td>43050</td>\n",
       "      <td>0</td>\n",
       "      <td>243219</td>\n",
       "      <td>10467880000</td>\n",
       "      <td>196011</td>\n",
       "      <td>936015</td>\n",
       "    </tr>\n",
       "    <tr>\n",
       "      <th>2</th>\n",
       "      <td>20181031</td>\n",
       "      <td>903</td>\n",
       "      <td>43050</td>\n",
       "      <td>43250</td>\n",
       "      <td>43000</td>\n",
       "      <td>43250</td>\n",
       "      <td>0</td>\n",
       "      <td>181695</td>\n",
       "      <td>7845530000</td>\n",
       "      <td>273021</td>\n",
       "      <td>1040700</td>\n",
       "    </tr>\n",
       "  </tbody>\n",
       "</table>\n",
       "</div>"
      ],
      "text/plain": [
       "       date  time   open   high    low  close  prev  volume    tr_amount  \\\n",
       "0  20181031   901  42900  43100  42850  43000     0  889398  38175620000   \n",
       "1  20181031   902  43000  43150  42950  43050     0  243219  10467880000   \n",
       "2  20181031   903  43050  43250  43000  43250     0  181695   7845530000   \n",
       "\n",
       "   sales_qu  purchase_qu  \n",
       "0    106987       781820  \n",
       "1    196011       936015  \n",
       "2    273021      1040700  "
      ]
     },
     "execution_count": 10,
     "metadata": {},
     "output_type": "execute_result"
    }
   ],
   "source": [
    "samsung_bunbong = pd.read_csv('./삼성전자분봉.csv')\n",
    "samsung_bunbong.head(3)"
   ]
  },
  {
   "cell_type": "code",
   "execution_count": 4,
   "metadata": {},
   "outputs": [
    {
     "name": "stdout",
     "output_type": "stream",
     "text": [
      "<class 'pandas.core.frame.DataFrame'>\n",
      "RangeIndex: 570579 entries, 0 to 570578\n",
      "Data columns (total 11 columns):\n",
      " #   Column       Non-Null Count   Dtype\n",
      "---  ------       --------------   -----\n",
      " 0   date         570579 non-null  int64\n",
      " 1   time         570579 non-null  int64\n",
      " 2   open         570579 non-null  int64\n",
      " 3   high         570579 non-null  int64\n",
      " 4   low          570579 non-null  int64\n",
      " 5   close        570579 non-null  int64\n",
      " 6   prev         570579 non-null  int64\n",
      " 7   volume       570579 non-null  int64\n",
      " 8   tr_amount    570579 non-null  int64\n",
      " 9   sales_qu     570579 non-null  int64\n",
      " 10  purchase_qu  570579 non-null  int64\n",
      "dtypes: int64(11)\n",
      "memory usage: 47.9 MB\n"
     ]
    }
   ],
   "source": [
    "samsung_bunbong.info()"
   ]
  },
  {
   "cell_type": "code",
   "execution_count": 15,
   "metadata": {},
   "outputs": [],
   "source": [
    "ss_date = samsung_bunbong['date']"
   ]
  },
  {
   "cell_type": "code",
   "execution_count": 16,
   "metadata": {},
   "outputs": [],
   "source": [
    "ss_time = samsung_bunbong['time']"
   ]
  },
  {
   "cell_type": "code",
   "execution_count": 29,
   "metadata": {
    "collapsed": true
   },
   "outputs": [
    {
     "ename": "TypeError",
     "evalue": "sequence item 0: expected str instance, int found",
     "output_type": "error",
     "traceback": [
      "\u001b[1;31m---------------------------------------------------------------------------\u001b[0m",
      "\u001b[1;31mTypeError\u001b[0m                                 Traceback (most recent call last)",
      "\u001b[1;32m<ipython-input-29-96fd9d8c36e3>\u001b[0m in \u001b[0;36m<module>\u001b[1;34m\u001b[0m\n\u001b[1;32m----> 1\u001b[1;33m \u001b[0msamsung_bunbong\u001b[0m\u001b[1;33m[\u001b[0m\u001b[1;34m'datetime'\u001b[0m\u001b[1;33m]\u001b[0m\u001b[1;33m=\u001b[0m\u001b[0msamsung_bunbong\u001b[0m\u001b[1;33m[\u001b[0m\u001b[1;33m[\u001b[0m\u001b[1;34m'date'\u001b[0m\u001b[1;33m,\u001b[0m\u001b[1;34m'time'\u001b[0m\u001b[1;33m]\u001b[0m\u001b[1;33m]\u001b[0m\u001b[1;33m.\u001b[0m\u001b[0magg\u001b[0m\u001b[1;33m(\u001b[0m\u001b[1;34m''\u001b[0m\u001b[1;33m.\u001b[0m\u001b[0mjoin\u001b[0m\u001b[1;33m,\u001b[0m\u001b[0maxis\u001b[0m\u001b[1;33m=\u001b[0m\u001b[1;36m1\u001b[0m\u001b[1;33m)\u001b[0m\u001b[1;33m\u001b[0m\u001b[1;33m\u001b[0m\u001b[0m\n\u001b[0m",
      "\u001b[1;32m~\\anaconda3\\lib\\site-packages\\pandas\\core\\frame.py\u001b[0m in \u001b[0;36maggregate\u001b[1;34m(self, func, axis, *args, **kwargs)\u001b[0m\n\u001b[0;32m   6708\u001b[0m             \u001b[1;32mpass\u001b[0m\u001b[1;33m\u001b[0m\u001b[1;33m\u001b[0m\u001b[0m\n\u001b[0;32m   6709\u001b[0m         \u001b[1;32mif\u001b[0m \u001b[0mresult\u001b[0m \u001b[1;32mis\u001b[0m \u001b[1;32mNone\u001b[0m\u001b[1;33m:\u001b[0m\u001b[1;33m\u001b[0m\u001b[1;33m\u001b[0m\u001b[0m\n\u001b[1;32m-> 6710\u001b[1;33m             \u001b[1;32mreturn\u001b[0m \u001b[0mself\u001b[0m\u001b[1;33m.\u001b[0m\u001b[0mapply\u001b[0m\u001b[1;33m(\u001b[0m\u001b[0mfunc\u001b[0m\u001b[1;33m,\u001b[0m \u001b[0maxis\u001b[0m\u001b[1;33m=\u001b[0m\u001b[0maxis\u001b[0m\u001b[1;33m,\u001b[0m \u001b[0margs\u001b[0m\u001b[1;33m=\u001b[0m\u001b[0margs\u001b[0m\u001b[1;33m,\u001b[0m \u001b[1;33m**\u001b[0m\u001b[0mkwargs\u001b[0m\u001b[1;33m)\u001b[0m\u001b[1;33m\u001b[0m\u001b[1;33m\u001b[0m\u001b[0m\n\u001b[0m\u001b[0;32m   6711\u001b[0m         \u001b[1;32mreturn\u001b[0m \u001b[0mresult\u001b[0m\u001b[1;33m\u001b[0m\u001b[1;33m\u001b[0m\u001b[0m\n\u001b[0;32m   6712\u001b[0m \u001b[1;33m\u001b[0m\u001b[0m\n",
      "\u001b[1;32m~\\anaconda3\\lib\\site-packages\\pandas\\core\\frame.py\u001b[0m in \u001b[0;36mapply\u001b[1;34m(self, func, axis, raw, result_type, args, **kwds)\u001b[0m\n\u001b[0;32m   6876\u001b[0m             \u001b[0mkwds\u001b[0m\u001b[1;33m=\u001b[0m\u001b[0mkwds\u001b[0m\u001b[1;33m,\u001b[0m\u001b[1;33m\u001b[0m\u001b[1;33m\u001b[0m\u001b[0m\n\u001b[0;32m   6877\u001b[0m         )\n\u001b[1;32m-> 6878\u001b[1;33m         \u001b[1;32mreturn\u001b[0m \u001b[0mop\u001b[0m\u001b[1;33m.\u001b[0m\u001b[0mget_result\u001b[0m\u001b[1;33m(\u001b[0m\u001b[1;33m)\u001b[0m\u001b[1;33m\u001b[0m\u001b[1;33m\u001b[0m\u001b[0m\n\u001b[0m\u001b[0;32m   6879\u001b[0m \u001b[1;33m\u001b[0m\u001b[0m\n\u001b[0;32m   6880\u001b[0m     \u001b[1;32mdef\u001b[0m \u001b[0mapplymap\u001b[0m\u001b[1;33m(\u001b[0m\u001b[0mself\u001b[0m\u001b[1;33m,\u001b[0m \u001b[0mfunc\u001b[0m\u001b[1;33m)\u001b[0m \u001b[1;33m->\u001b[0m \u001b[1;34m\"DataFrame\"\u001b[0m\u001b[1;33m:\u001b[0m\u001b[1;33m\u001b[0m\u001b[1;33m\u001b[0m\u001b[0m\n",
      "\u001b[1;32m~\\anaconda3\\lib\\site-packages\\pandas\\core\\apply.py\u001b[0m in \u001b[0;36mget_result\u001b[1;34m(self)\u001b[0m\n\u001b[0;32m    184\u001b[0m             \u001b[1;32mreturn\u001b[0m \u001b[0mself\u001b[0m\u001b[1;33m.\u001b[0m\u001b[0mapply_raw\u001b[0m\u001b[1;33m(\u001b[0m\u001b[1;33m)\u001b[0m\u001b[1;33m\u001b[0m\u001b[1;33m\u001b[0m\u001b[0m\n\u001b[0;32m    185\u001b[0m \u001b[1;33m\u001b[0m\u001b[0m\n\u001b[1;32m--> 186\u001b[1;33m         \u001b[1;32mreturn\u001b[0m \u001b[0mself\u001b[0m\u001b[1;33m.\u001b[0m\u001b[0mapply_standard\u001b[0m\u001b[1;33m(\u001b[0m\u001b[1;33m)\u001b[0m\u001b[1;33m\u001b[0m\u001b[1;33m\u001b[0m\u001b[0m\n\u001b[0m\u001b[0;32m    187\u001b[0m \u001b[1;33m\u001b[0m\u001b[0m\n\u001b[0;32m    188\u001b[0m     \u001b[1;32mdef\u001b[0m \u001b[0mapply_empty_result\u001b[0m\u001b[1;33m(\u001b[0m\u001b[0mself\u001b[0m\u001b[1;33m)\u001b[0m\u001b[1;33m:\u001b[0m\u001b[1;33m\u001b[0m\u001b[1;33m\u001b[0m\u001b[0m\n",
      "\u001b[1;32m~\\anaconda3\\lib\\site-packages\\pandas\\core\\apply.py\u001b[0m in \u001b[0;36mapply_standard\u001b[1;34m(self)\u001b[0m\n\u001b[0;32m    293\u001b[0m \u001b[1;33m\u001b[0m\u001b[0m\n\u001b[0;32m    294\u001b[0m             \u001b[1;32mtry\u001b[0m\u001b[1;33m:\u001b[0m\u001b[1;33m\u001b[0m\u001b[1;33m\u001b[0m\u001b[0m\n\u001b[1;32m--> 295\u001b[1;33m                 result = libreduction.compute_reduction(\n\u001b[0m\u001b[0;32m    296\u001b[0m                     \u001b[0mvalues\u001b[0m\u001b[1;33m,\u001b[0m \u001b[0mself\u001b[0m\u001b[1;33m.\u001b[0m\u001b[0mf\u001b[0m\u001b[1;33m,\u001b[0m \u001b[0maxis\u001b[0m\u001b[1;33m=\u001b[0m\u001b[0mself\u001b[0m\u001b[1;33m.\u001b[0m\u001b[0maxis\u001b[0m\u001b[1;33m,\u001b[0m \u001b[0mdummy\u001b[0m\u001b[1;33m=\u001b[0m\u001b[0mdummy\u001b[0m\u001b[1;33m,\u001b[0m \u001b[0mlabels\u001b[0m\u001b[1;33m=\u001b[0m\u001b[0mlabels\u001b[0m\u001b[1;33m\u001b[0m\u001b[1;33m\u001b[0m\u001b[0m\n\u001b[0;32m    297\u001b[0m                 )\n",
      "\u001b[1;32mpandas\\_libs\\reduction.pyx\u001b[0m in \u001b[0;36mpandas._libs.reduction.compute_reduction\u001b[1;34m()\u001b[0m\n",
      "\u001b[1;32mpandas\\_libs\\reduction.pyx\u001b[0m in \u001b[0;36mpandas._libs.reduction.Reducer.get_result\u001b[1;34m()\u001b[0m\n",
      "\u001b[1;31mTypeError\u001b[0m: sequence item 0: expected str instance, int found"
     ]
    }
   ],
   "source": [
    "samsung_bunbong['datetime']=samsung_bunbong[['date','time']].agg(''.join,axis=1)"
   ]
  },
  {
   "cell_type": "code",
   "execution_count": 25,
   "metadata": {},
   "outputs": [
    {
     "data": {
      "text/plain": [
       "0         20181932\n",
       "1         20181933\n",
       "2         20181934\n",
       "3         20181935\n",
       "4         20181936\n",
       "            ...   \n",
       "570574    20181935\n",
       "570575    20181934\n",
       "570576    20181933\n",
       "570577    20181932\n",
       "570578    20181931\n",
       "Name: datetime, Length: 570579, dtype: int64"
      ]
     },
     "execution_count": 25,
     "metadata": {},
     "output_type": "execute_result"
    }
   ],
   "source": [
    "samsung_bunbong['datetime']"
   ]
  },
  {
   "cell_type": "code",
   "execution_count": null,
   "metadata": {},
   "outputs": [],
   "source": []
  },
  {
   "cell_type": "code",
   "execution_count": 3,
   "metadata": {},
   "outputs": [
    {
     "data": {
      "text/html": [
       "<div>\n",
       "<style scoped>\n",
       "    .dataframe tbody tr th:only-of-type {\n",
       "        vertical-align: middle;\n",
       "    }\n",
       "\n",
       "    .dataframe tbody tr th {\n",
       "        vertical-align: top;\n",
       "    }\n",
       "\n",
       "    .dataframe thead th {\n",
       "        text-align: right;\n",
       "    }\n",
       "</style>\n",
       "<table border=\"1\" class=\"dataframe\">\n",
       "  <thead>\n",
       "    <tr style=\"text-align: right;\">\n",
       "      <th></th>\n",
       "      <th>open</th>\n",
       "      <th>high</th>\n",
       "      <th>low</th>\n",
       "      <th>close</th>\n",
       "      <th>prev</th>\n",
       "      <th>article</th>\n",
       "    </tr>\n",
       "    <tr>\n",
       "      <th>datetime</th>\n",
       "      <th></th>\n",
       "      <th></th>\n",
       "      <th></th>\n",
       "      <th></th>\n",
       "      <th></th>\n",
       "      <th></th>\n",
       "    </tr>\n",
       "  </thead>\n",
       "  <tbody>\n",
       "    <tr>\n",
       "      <th>2018-10-29 09:20</th>\n",
       "      <td>40800</td>\n",
       "      <td>40900</td>\n",
       "      <td>40750</td>\n",
       "      <td>40850</td>\n",
       "      <td>100.0</td>\n",
       "      <td>【서울뉴시스】이진영 기자  반도체 투톱 삼성전자와 SK하이닉스가 29일 장 초반 약...</td>\n",
       "    </tr>\n",
       "    <tr>\n",
       "      <th>2018-10-29 09:56</th>\n",
       "      <td>41050</td>\n",
       "      <td>41100</td>\n",
       "      <td>41050</td>\n",
       "      <td>41100</td>\n",
       "      <td>50.0</td>\n",
       "      <td>용인문화재단이사장 백군기이 15일부터 19일까지 삼성전자 화성캠퍼스 DSR타워 로비...</td>\n",
       "    </tr>\n",
       "    <tr>\n",
       "      <th>2018-10-29 14:26</th>\n",
       "      <td>41850</td>\n",
       "      <td>41850</td>\n",
       "      <td>41750</td>\n",
       "      <td>41750</td>\n",
       "      <td>-100.0</td>\n",
       "      <td>‘대륙의 완벽한 실수’ ‘갓성비 스마트폰’이라는 별명이 붙은 중국 샤오미의 새 ...</td>\n",
       "    </tr>\n",
       "    <tr>\n",
       "      <th>2018-10-29 15:30</th>\n",
       "      <td>41400</td>\n",
       "      <td>41400</td>\n",
       "      <td>41400</td>\n",
       "      <td>41400</td>\n",
       "      <td>-100.0</td>\n",
       "      <td>기술의 변화와 혁신이 전례 없는 규모와 속도로 이뤄지는 대전환의 시대를 맞고 있습니...</td>\n",
       "    </tr>\n",
       "    <tr>\n",
       "      <th>2018-10-30 09:30</th>\n",
       "      <td>42450</td>\n",
       "      <td>42450</td>\n",
       "      <td>42400</td>\n",
       "      <td>42400</td>\n",
       "      <td>-50.0</td>\n",
       "      <td>【서울뉴시스】 김정호 기자  코스피 시가총액 1 2위 종목인 삼성전자005930와 ...</td>\n",
       "    </tr>\n",
       "  </tbody>\n",
       "</table>\n",
       "</div>"
      ],
      "text/plain": [
       "                   open   high    low  close   prev  \\\n",
       "datetime                                              \n",
       "2018-10-29 09:20  40800  40900  40750  40850  100.0   \n",
       "2018-10-29 09:56  41050  41100  41050  41100   50.0   \n",
       "2018-10-29 14:26  41850  41850  41750  41750 -100.0   \n",
       "2018-10-29 15:30  41400  41400  41400  41400 -100.0   \n",
       "2018-10-30 09:30  42450  42450  42400  42400  -50.0   \n",
       "\n",
       "                                                            article  \n",
       "datetime                                                             \n",
       "2018-10-29 09:20  【서울뉴시스】이진영 기자  반도체 투톱 삼성전자와 SK하이닉스가 29일 장 초반 약...  \n",
       "2018-10-29 09:56  용인문화재단이사장 백군기이 15일부터 19일까지 삼성전자 화성캠퍼스 DSR타워 로비...  \n",
       "2018-10-29 14:26    ‘대륙의 완벽한 실수’ ‘갓성비 스마트폰’이라는 별명이 붙은 중국 샤오미의 새 ...  \n",
       "2018-10-29 15:30  기술의 변화와 혁신이 전례 없는 규모와 속도로 이뤄지는 대전환의 시대를 맞고 있습니...  \n",
       "2018-10-30 09:30  【서울뉴시스】 김정호 기자  코스피 시가총액 1 2위 종목인 삼성전자005930와 ...  "
      ]
     },
     "execution_count": 3,
     "metadata": {},
     "output_type": "execute_result"
    }
   ],
   "source": [
    "ss = pd.read_csv('./삼성전자기사분봉.csv',index_col='datetime')\n",
    "ss.head()"
   ]
  },
  {
   "cell_type": "code",
   "execution_count": 4,
   "metadata": {},
   "outputs": [],
   "source": [
    "okt = Okt()"
   ]
  },
  {
   "cell_type": "code",
   "execution_count": 5,
   "metadata": {},
   "outputs": [],
   "source": [
    "# 불용어 처리\n",
    "stopwords = ['의','가','이','은','들','는','좀','잘','걍','과','도','를','을','으로','자','에','와','한','하다',\",\",'\"','`','.','에'\n",
    "            ,'된다','(',')','이다','중','없다','인','것','보인다','밝혔다','것','하는','받았다','바','며']"
   ]
  },
  {
   "cell_type": "code",
   "execution_count": 6,
   "metadata": {
    "scrolled": true
   },
   "outputs": [
    {
     "data": {
      "text/plain": [
       "0           [-0.004030131413137161, -0.00114170706838422]\n",
       "1           [0.0018293926595306733, -0.00470456535466528]\n",
       "2          [0.0030788626273105984, -0.005132323333108335]\n",
       "3          [-0.005528615332526903, -0.006209602467621366]\n",
       "4           [-0.0018473146326840899, 0.00650579128581048]\n",
       "                               ...                       \n",
       "85290    [-0.0003820735027753956, -0.0003089920260410931]\n",
       "85291     [-0.001037990972061065, -0.0009559564009036167]\n",
       "85292      [0.001825467699910973, -0.0008396786044766381]\n",
       "85293       [0.0021433908844503834, 0.009480662969260182]\n",
       "85294      [0.0005482683423023943, -0.004164491452231754]\n",
       "Length: 85295, dtype: object"
      ]
     },
     "execution_count": 6,
     "metadata": {},
     "output_type": "execute_result"
    }
   ],
   "source": [
    "ss_dataset = [] # 필터링용\n",
    "top30_content = [] # top30\n",
    "top30_vector =[]\n",
    "for a in ss['article']:\n",
    "    ss_nouns = okt.nouns(a) # 명사만 추출\n",
    "    for n in ss_nouns:\n",
    "        if n.isalpha(): # 문자 판별\n",
    "            ss_dataset.append(n)\n",
    "        else:\n",
    "            continue\n",
    "    for w in ss_dataset: # 2글자 판별\n",
    "        if len(w) ==1:\n",
    "            ss_dataset.remove(w)\n",
    "        else:\n",
    "            continue\n",
    "    # 불용어 처리\n",
    "    ss_stopwords = [s for s in ss_dataset if n not in stopwords]\n",
    "    \n",
    "    # Text화\n",
    "    ss_text = nltk.Text(ss_stopwords)\n",
    "    \n",
    "    ss_vocab = ss_text.vocab()\n",
    "    \n",
    "    top30 = ss_vocab.most_common(30)\n",
    "    \n",
    "    for t in top30:\n",
    "        line =[]\n",
    "        for j in range(1):\n",
    "            line.append(t[0])\n",
    "        top30_content.append(line)\n",
    "    \n",
    "    # word2vec 모델 생성\n",
    "    model = Word2Vec(\n",
    "        top30_content\n",
    "        ,size = 200\n",
    "        ,window =5\n",
    "        ,min_count=1\n",
    "        ,workers=1\n",
    "        ,sg=0\n",
    "    )\n",
    "    \n",
    "    # 단어 벡터를 구한다\n",
    "    word_vectors = model.wv\n",
    "    vocabs = word_vectors.vocab.keys()\n",
    "    word_vectors_list = [word_vectors[v] for v in vocabs]\n",
    "    \n",
    "    # 차원 낮추기\n",
    "    pca = PCA(n_components=1)\n",
    "    xys = pca.fit_transform(word_vectors_list)\n",
    "    \n",
    "    for x in xys:\n",
    "        top30_vector.append(list(x))\n",
    "        \n",
    "article_vector = pd.Series(top30_vector)\n",
    "article_vector    \n",
    "    "
   ]
  },
  {
   "cell_type": "code",
   "execution_count": null,
   "metadata": {},
   "outputs": [],
   "source": []
  }
 ],
 "metadata": {
  "kernelspec": {
   "display_name": "Python 3",
   "language": "python",
   "name": "python3"
  },
  "language_info": {
   "codemirror_mode": {
    "name": "ipython",
    "version": 3
   },
   "file_extension": ".py",
   "mimetype": "text/x-python",
   "name": "python",
   "nbconvert_exporter": "python",
   "pygments_lexer": "ipython3",
   "version": "3.8.3"
  }
 },
 "nbformat": 4,
 "nbformat_minor": 4
}
