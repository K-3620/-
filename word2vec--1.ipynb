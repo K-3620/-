{
 "cells": [
  {
   "cell_type": "code",
   "execution_count": 1,
   "metadata": {},
   "outputs": [],
   "source": [
    "import pandas as pd\n",
    "import matplotlib.pyplot as plt\n",
    "import urllib.request\n",
    "from gensim.models.word2vec import Word2Vec\n",
    "from konlpy.tag import Okt"
   ]
  },
  {
   "cell_type": "code",
   "execution_count": 18,
   "metadata": {
    "scrolled": true
   },
   "outputs": [
    {
     "data": {
      "text/html": [
       "<div>\n",
       "<style scoped>\n",
       "    .dataframe tbody tr th:only-of-type {\n",
       "        vertical-align: middle;\n",
       "    }\n",
       "\n",
       "    .dataframe tbody tr th {\n",
       "        vertical-align: top;\n",
       "    }\n",
       "\n",
       "    .dataframe thead th {\n",
       "        text-align: right;\n",
       "    }\n",
       "</style>\n",
       "<table border=\"1\" class=\"dataframe\">\n",
       "  <thead>\n",
       "    <tr style=\"text-align: right;\">\n",
       "      <th></th>\n",
       "      <th>제목</th>\n",
       "      <th>링크</th>\n",
       "      <th>기관</th>\n",
       "      <th>날짜</th>\n",
       "      <th>시간</th>\n",
       "    </tr>\n",
       "  </thead>\n",
       "  <tbody>\n",
       "    <tr>\n",
       "      <th>0</th>\n",
       "      <td>폭스바겐 전기차 목표 상향에…국내 배터리업체 '바쁜 2020년' 전망</td>\n",
       "      <td>https://finance.naver.com/news/news_read.nhn?a...</td>\n",
       "      <td>헤럴드경제</td>\n",
       "      <td>2020-01-01</td>\n",
       "      <td>22:47</td>\n",
       "    </tr>\n",
       "    <tr>\n",
       "      <th>1</th>\n",
       "      <td>\"외국인 코스닥 집중 매수… 연초엔 중소형주 주목\"</td>\n",
       "      <td>https://finance.naver.com/news/news_read.nhn?a...</td>\n",
       "      <td>파이낸셜뉴스</td>\n",
       "      <td>2020-01-01</td>\n",
       "      <td>18:13</td>\n",
       "    </tr>\n",
       "    <tr>\n",
       "      <th>2</th>\n",
       "      <td>연초부터 기대감 한몸에… 반도체株 목표주가 상향</td>\n",
       "      <td>https://finance.naver.com/news/news_read.nhn?a...</td>\n",
       "      <td>파이낸셜뉴스</td>\n",
       "      <td>2020-01-01</td>\n",
       "      <td>18:13</td>\n",
       "    </tr>\n",
       "    <tr>\n",
       "      <th>3</th>\n",
       "      <td>대기업 구조조정 일단락… P-CBO 발행 2년 새 2조원 감소</td>\n",
       "      <td>https://finance.naver.com/news/news_read.nhn?a...</td>\n",
       "      <td>파이낸셜뉴스</td>\n",
       "      <td>2020-01-01</td>\n",
       "      <td>18:13</td>\n",
       "    </tr>\n",
       "    <tr>\n",
       "      <th>4</th>\n",
       "      <td>'1월 효과' 노린 우량채 줄섰다</td>\n",
       "      <td>https://finance.naver.com/news/news_read.nhn?a...</td>\n",
       "      <td>파이낸셜뉴스</td>\n",
       "      <td>2020-01-01</td>\n",
       "      <td>18:13</td>\n",
       "    </tr>\n",
       "  </tbody>\n",
       "</table>\n",
       "</div>"
      ],
      "text/plain": [
       "                                       제목  \\\n",
       "0  폭스바겐 전기차 목표 상향에…국내 배터리업체 '바쁜 2020년' 전망   \n",
       "1            \"외국인 코스닥 집중 매수… 연초엔 중소형주 주목\"   \n",
       "2              연초부터 기대감 한몸에… 반도체株 목표주가 상향   \n",
       "3      대기업 구조조정 일단락… P-CBO 발행 2년 새 2조원 감소   \n",
       "4                      '1월 효과' 노린 우량채 줄섰다   \n",
       "\n",
       "                                                  링크      기관          날짜  \\\n",
       "0  https://finance.naver.com/news/news_read.nhn?a...   헤럴드경제  2020-01-01   \n",
       "1  https://finance.naver.com/news/news_read.nhn?a...  파이낸셜뉴스  2020-01-01   \n",
       "2  https://finance.naver.com/news/news_read.nhn?a...  파이낸셜뉴스  2020-01-01   \n",
       "3  https://finance.naver.com/news/news_read.nhn?a...  파이낸셜뉴스  2020-01-01   \n",
       "4  https://finance.naver.com/news/news_read.nhn?a...  파이낸셜뉴스  2020-01-01   \n",
       "\n",
       "      시간  \n",
       "0  22:47  \n",
       "1  18:13  \n",
       "2  18:13  \n",
       "3  18:13  \n",
       "4  18:13  "
      ]
     },
     "execution_count": 18,
     "metadata": {},
     "output_type": "execute_result"
    }
   ],
   "source": [
    "news2020 = pd.read_csv('./news/2020년.csv')\n",
    "news2020.head(5)"
   ]
  },
  {
   "cell_type": "code",
   "execution_count": 6,
   "metadata": {},
   "outputs": [
    {
     "data": {
      "text/plain": [
       "False"
      ]
     },
     "execution_count": 6,
     "metadata": {},
     "output_type": "execute_result"
    }
   ],
   "source": [
    "news2020.isnull().values.any()"
   ]
  },
  {
   "cell_type": "code",
   "execution_count": 7,
   "metadata": {},
   "outputs": [],
   "source": [
    "# 정규 표현식 한글 외 문자 제거\n",
    "news2020['제목'] = news2020['제목'].str.replace(\"[^ㄱ-ㅎㅏ-ㅣ가-힣 ]\",\"\")"
   ]
  },
  {
   "cell_type": "code",
   "execution_count": 8,
   "metadata": {},
   "outputs": [
    {
     "data": {
      "text/html": [
       "<div>\n",
       "<style scoped>\n",
       "    .dataframe tbody tr th:only-of-type {\n",
       "        vertical-align: middle;\n",
       "    }\n",
       "\n",
       "    .dataframe tbody tr th {\n",
       "        vertical-align: top;\n",
       "    }\n",
       "\n",
       "    .dataframe thead th {\n",
       "        text-align: right;\n",
       "    }\n",
       "</style>\n",
       "<table border=\"1\" class=\"dataframe\">\n",
       "  <thead>\n",
       "    <tr style=\"text-align: right;\">\n",
       "      <th></th>\n",
       "      <th>제목</th>\n",
       "      <th>링크</th>\n",
       "      <th>기관</th>\n",
       "      <th>날짜</th>\n",
       "      <th>시간</th>\n",
       "    </tr>\n",
       "  </thead>\n",
       "  <tbody>\n",
       "    <tr>\n",
       "      <th>0</th>\n",
       "      <td>폭스바겐 전기차 목표 상향에국내 배터리업체 바쁜 년 전망</td>\n",
       "      <td>https://finance.naver.com/news/news_read.nhn?a...</td>\n",
       "      <td>헤럴드경제</td>\n",
       "      <td>2020-01-01</td>\n",
       "      <td>22:47</td>\n",
       "    </tr>\n",
       "    <tr>\n",
       "      <th>1</th>\n",
       "      <td>외국인 코스닥 집중 매수 연초엔 중소형주 주목</td>\n",
       "      <td>https://finance.naver.com/news/news_read.nhn?a...</td>\n",
       "      <td>파이낸셜뉴스</td>\n",
       "      <td>2020-01-01</td>\n",
       "      <td>18:13</td>\n",
       "    </tr>\n",
       "    <tr>\n",
       "      <th>2</th>\n",
       "      <td>연초부터 기대감 한몸에 반도체 목표주가 상향</td>\n",
       "      <td>https://finance.naver.com/news/news_read.nhn?a...</td>\n",
       "      <td>파이낸셜뉴스</td>\n",
       "      <td>2020-01-01</td>\n",
       "      <td>18:13</td>\n",
       "    </tr>\n",
       "    <tr>\n",
       "      <th>3</th>\n",
       "      <td>대기업 구조조정 일단락  발행 년 새 조원 감소</td>\n",
       "      <td>https://finance.naver.com/news/news_read.nhn?a...</td>\n",
       "      <td>파이낸셜뉴스</td>\n",
       "      <td>2020-01-01</td>\n",
       "      <td>18:13</td>\n",
       "    </tr>\n",
       "    <tr>\n",
       "      <th>4</th>\n",
       "      <td>월 효과 노린 우량채 줄섰다</td>\n",
       "      <td>https://finance.naver.com/news/news_read.nhn?a...</td>\n",
       "      <td>파이낸셜뉴스</td>\n",
       "      <td>2020-01-01</td>\n",
       "      <td>18:13</td>\n",
       "    </tr>\n",
       "  </tbody>\n",
       "</table>\n",
       "</div>"
      ],
      "text/plain": [
       "                                제목  \\\n",
       "0  폭스바겐 전기차 목표 상향에국내 배터리업체 바쁜 년 전망   \n",
       "1        외국인 코스닥 집중 매수 연초엔 중소형주 주목   \n",
       "2         연초부터 기대감 한몸에 반도체 목표주가 상향   \n",
       "3       대기업 구조조정 일단락  발행 년 새 조원 감소   \n",
       "4                  월 효과 노린 우량채 줄섰다   \n",
       "\n",
       "                                                  링크      기관          날짜  \\\n",
       "0  https://finance.naver.com/news/news_read.nhn?a...   헤럴드경제  2020-01-01   \n",
       "1  https://finance.naver.com/news/news_read.nhn?a...  파이낸셜뉴스  2020-01-01   \n",
       "2  https://finance.naver.com/news/news_read.nhn?a...  파이낸셜뉴스  2020-01-01   \n",
       "3  https://finance.naver.com/news/news_read.nhn?a...  파이낸셜뉴스  2020-01-01   \n",
       "4  https://finance.naver.com/news/news_read.nhn?a...  파이낸셜뉴스  2020-01-01   \n",
       "\n",
       "      시간  \n",
       "0  22:47  \n",
       "1  18:13  \n",
       "2  18:13  \n",
       "3  18:13  \n",
       "4  18:13  "
      ]
     },
     "execution_count": 8,
     "metadata": {},
     "output_type": "execute_result"
    }
   ],
   "source": [
    "news2020.head(5)"
   ]
  },
  {
   "cell_type": "code",
   "execution_count": 9,
   "metadata": {},
   "outputs": [],
   "source": [
    "# 불용어 처리\n",
    "stopwords = ['의','가','이','은','들','는','좀','잘','걍','과','도','를','으로','자','에','와','한','하다']"
   ]
  },
  {
   "cell_type": "code",
   "execution_count": 11,
   "metadata": {},
   "outputs": [],
   "source": [
    "okt = Okt()\n",
    "tokenized = []\n",
    "for sentence in news2020['제목']:\n",
    "    temp_X = okt.morphs(sentence,stem=True) # 토큰화\n",
    "    temp_X = [word for word in temp_X if not word in stopwords] # 불용어 제거\n",
    "    tokenized.append(temp_X)"
   ]
  },
  {
   "cell_type": "code",
   "execution_count": 12,
   "metadata": {},
   "outputs": [
    {
     "name": "stdout",
     "output_type": "stream",
     "text": [
      "기사 제목 최대 길이 :  19\n",
      "기사 제목 평균 길이 :  9.346441947565543\n"
     ]
    },
    {
     "data": {
      "image/png": "[encoded data removed]",
      "text/plain": [
       "<Figure size 432x288 with 1 Axes>"
      ]
     },
     "metadata": {
      "needs_background": "light"
     },
     "output_type": "display_data"
    }
   ],
   "source": [
    "print('기사 제목 최대 길이 : ',max(len(l) for l in tokenized))\n",
    "print('기사 제목 평균 길이 : ',sum(map(len,tokenized))/len(tokenized))\n",
    "plt.hist([len(s) for s in tokenized],bins = 50)\n",
    "plt.xlabel('length')\n",
    "plt.ylabel('number')\n",
    "plt.show()"
   ]
  },
  {
   "cell_type": "code",
   "execution_count": 13,
   "metadata": {},
   "outputs": [],
   "source": [
    "from gensim.models import Word2Vec\n",
    "model = Word2Vec(\n",
    "    sentences = tokenized\n",
    "    ,size = 100 # 100차원\n",
    "    ,window=5 # 앞뒤로 비교할 크기\n",
    "    ,min_count = 5 # 출현 빈도\n",
    "    ,workers=4 # 학습을 위한 프로세스 수\n",
    "    ,sg = 0 # CBOW\n",
    ")"
   ]
  },
  {
   "cell_type": "code",
   "execution_count": 14,
   "metadata": {},
   "outputs": [
    {
     "data": {
      "text/plain": [
       "(1200, 100)"
      ]
     },
     "execution_count": 14,
     "metadata": {},
     "output_type": "execute_result"
    }
   ],
   "source": [
    "# 완성된 임베딩 매트릭스 크기 확인\n",
    "model.wv.vectors.shape"
   ]
  },
  {
   "cell_type": "code",
   "execution_count": 17,
   "metadata": {},
   "outputs": [
    {
     "name": "stdout",
     "output_type": "stream",
     "text": [
      "[('부진', 0.9987672567367554), ('뉴욕증시', 0.9987625479698181), ('주가', 0.9987350702285767), ('대신', 0.9987243413925171), ('게임', 0.9987215995788574), ('주식', 0.9987108707427979), ('매출', 0.9987099170684814), ('최대', 0.998700737953186), ('한국', 0.9986990094184875), ('온라인', 0.9986966848373413)]\n"
     ]
    }
   ],
   "source": [
    "print(model.wv.most_similar('자동차'))"
   ]
  },
  {
   "cell_type": "code",
   "execution_count": null,
   "metadata": {},
   "outputs": [],
   "source": []
  }
 ],
 "metadata": {
  "kernelspec": {
   "display_name": "Python 3",
   "language": "python",
   "name": "python3"
  },
  "language_info": {
   "codemirror_mode": {
    "name": "ipython",
    "version": 3
   },
   "file_extension": ".py",
   "mimetype": "text/x-python",
   "name": "python",
   "nbconvert_exporter": "python",
   "pygments_lexer": "ipython3",
   "version": "3.8.3"
  }
 },
 "nbformat": 4,
 "nbformat_minor": 4
}
